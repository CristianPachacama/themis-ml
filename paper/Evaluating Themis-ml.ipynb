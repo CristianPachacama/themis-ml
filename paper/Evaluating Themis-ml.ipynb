{
 "cells": [
  {
   "cell_type": "markdown",
   "metadata": {},
   "source": [
    "# The Utility-Fairness Tradeoff\n",
    "\n",
    "In this post, I'll be taking a dive into the capabilities of `themis_ml` as a tool to measure and mitigate discriminatory patterns in training data and the predictions made by machine learning algorithms trained for the purposes of socially sensitive decision processes.\n",
    "\n",
    "The overall goal of this research is to come up with a reasonable way to\n",
    "think about how to make machine learning algorithms more fair. While the\n",
    "mathematical formalization of fairness is not sufficient to solve the\n",
    "problem of discrimination, our ability to understand and articulate\n",
    "what it means for an algorithm to be fair is a step in the right direction.\n",
    "\n",
    "Since the \"discrimination\" is an value-laden term in this context, I'll\n",
    "refer to the opposite of fairness as *potential discrimination* (PD)\n",
    "since the any socially biased patterns we'll be measuring in the\n",
    "training data did not necessarily arise from discriminatory processes.\n",
    "\n",
    "I'll be using the German Credit data, which consists of ~1000 loan\n",
    "application containing roughly 20 input variables (including `foreign_worker`, `housing`, and `credit_history`) and 1 binary target variable `credit_risk`, which is either `good` or `bad`.\n",
    "\n",
    "In the context of a `good/bad credit_risk` binary predict task and an\n",
    "explicit definition of fairness, our objectives will be to:\n",
    "\n",
    "1. Measure the degree of discrimination in the dataset with respect to some\n",
    "   discrimination metric and protected class.\n",
    "2. Establish a baseline performance level with respect to utility and fairness\n",
    "   metrics with models trained on a fairness-unaware machine learning pipeline.\n",
    "3. Measure and compare the baseline metrics with fairness aware models."
   ]
  },
  {
   "cell_type": "markdown",
   "metadata": {},
   "source": [
    "# Load Data"
   ]
  },
  {
   "cell_type": "code",
   "execution_count": 1,
   "metadata": {
    "collapsed": true
   },
   "outputs": [],
   "source": [
    "from themis_ml import datasets\n",
    "from themis_ml.datasets.german_credit_data_map import \\\n",
    "    preprocess_german_credit_data\n",
    "from themis_ml.metrics import mean_difference, normalized_mean_difference"
   ]
  },
  {
   "cell_type": "code",
   "execution_count": 2,
   "metadata": {},
   "outputs": [
    {
     "data": {
      "text/html": [
       "<div>\n",
       "<style>\n",
       "    .dataframe thead tr:only-child th {\n",
       "        text-align: right;\n",
       "    }\n",
       "\n",
       "    .dataframe thead th {\n",
       "        text-align: left;\n",
       "    }\n",
       "\n",
       "    .dataframe tbody tr th {\n",
       "        vertical-align: top;\n",
       "    }\n",
       "</style>\n",
       "<table border=\"1\" class=\"dataframe\">\n",
       "  <thead>\n",
       "    <tr style=\"text-align: right;\">\n",
       "      <th></th>\n",
       "      <th>credit_risk</th>\n",
       "      <th>purpose</th>\n",
       "      <th>age_in_years</th>\n",
       "      <th>foreign_worker</th>\n",
       "    </tr>\n",
       "  </thead>\n",
       "  <tbody>\n",
       "    <tr>\n",
       "      <th>0</th>\n",
       "      <td>1</td>\n",
       "      <td>radio/television</td>\n",
       "      <td>67</td>\n",
       "      <td>1</td>\n",
       "    </tr>\n",
       "    <tr>\n",
       "      <th>1</th>\n",
       "      <td>0</td>\n",
       "      <td>radio/television</td>\n",
       "      <td>22</td>\n",
       "      <td>1</td>\n",
       "    </tr>\n",
       "    <tr>\n",
       "      <th>2</th>\n",
       "      <td>1</td>\n",
       "      <td>education</td>\n",
       "      <td>49</td>\n",
       "      <td>1</td>\n",
       "    </tr>\n",
       "    <tr>\n",
       "      <th>3</th>\n",
       "      <td>1</td>\n",
       "      <td>furniture/equipment</td>\n",
       "      <td>45</td>\n",
       "      <td>1</td>\n",
       "    </tr>\n",
       "    <tr>\n",
       "      <th>4</th>\n",
       "      <td>0</td>\n",
       "      <td>car_(new)</td>\n",
       "      <td>53</td>\n",
       "      <td>1</td>\n",
       "    </tr>\n",
       "  </tbody>\n",
       "</table>\n",
       "</div>"
      ],
      "text/plain": [
       "   credit_risk              purpose  age_in_years  foreign_worker\n",
       "0            1     radio/television            67               1\n",
       "1            0     radio/television            22               1\n",
       "2            1            education            49               1\n",
       "3            1  furniture/equipment            45               1\n",
       "4            0            car_(new)            53               1"
      ]
     },
     "execution_count": 2,
     "metadata": {},
     "output_type": "execute_result"
    }
   ],
   "source": [
    "german_credit = datasets.german_credit()\n",
    "german_credit[\n",
    "    [\"credit_risk\", \"purpose\", \"age_in_years\", \"foreign_worker\"]].head()"
   ]
  },
  {
   "cell_type": "code",
   "execution_count": 3,
   "metadata": {
    "collapsed": true
   },
   "outputs": [],
   "source": [
    "german_credit_preprocessed = (\n",
    "    preprocess_german_credit_data(german_credit)\n",
    "    # the following binary variable indicates whether someone is female or\n",
    "    # not since the unique values in `personal_status` are:\n",
    "    # 'personal_status_and_sex_female_divorced/separated/married'\n",
    "    # 'personal_status_and_sex_male_divorced/separated'\n",
    "    # 'personal_status_and_sex_male_married/widowed'\n",
    "    # 'personal_status_and_sex_male_single'\n",
    "    .assign(female=lambda df:\n",
    "            df[\"personal_status_and_sex_female_divorced/separated/married\"])\n",
    "    # we're going to hypothesize here that young people, aged below 25,\n",
    "    # might be  considered to have bad credit risk moreso than other groups\n",
    "    .assign(age_below_25=lambda df: df[\"age_in_years\"] <= 25)\n",
    ")"
   ]
  },
  {
   "cell_type": "markdown",
   "metadata": {},
   "source": [
    "# Measure Social Bias"
   ]
  },
  {
   "cell_type": "markdown",
   "metadata": {},
   "source": [
    "## target variable: `credit_risk`\n",
    "\n",
    "- `1 = low risk` (good)\n",
    "- `0 = high risk` (bad)"
   ]
  },
  {
   "cell_type": "code",
   "execution_count": 4,
   "metadata": {},
   "outputs": [
    {
     "data": {
      "text/plain": [
       "1    700\n",
       "0    300\n",
       "Name: credit_risk, dtype: int64"
      ]
     },
     "execution_count": 4,
     "metadata": {},
     "output_type": "execute_result"
    }
   ],
   "source": [
    "credit_risk = german_credit_preprocessed.credit_risk\n",
    "credit_risk.value_counts()"
   ]
  },
  {
   "cell_type": "markdown",
   "metadata": {},
   "source": [
    "## protected class: sex\n",
    "\n",
    "- advantaged group: `men`\n",
    "- disadvantaged group: `women`"
   ]
  },
  {
   "cell_type": "code",
   "execution_count": 5,
   "metadata": {},
   "outputs": [
    {
     "data": {
      "text/plain": [
       "0    690\n",
       "1    310\n",
       "Name: female, dtype: int64"
      ]
     },
     "execution_count": 5,
     "metadata": {},
     "output_type": "execute_result"
    }
   ],
   "source": [
    "is_female = german_credit_preprocessed.female\n",
    "is_female.value_counts()"
   ]
  },
  {
   "cell_type": "code",
   "execution_count": 6,
   "metadata": {},
   "outputs": [
    {
     "name": "stdout",
     "output_type": "stream",
     "text": [
      "mean difference: 7.48 - 95% CI [1.35, 13.61]\n",
      "normalized mean difference: 7.73 - 95% CI [1.39, 14.06]\n"
     ]
    }
   ],
   "source": [
    "def report_metric(metric, mean_diff, lower, upper):\n",
    "    print(\"{metric}: {md:0.02f} - 95% CI [{lower:0.02f}, {upper:0.02f}]\"\n",
    "          .format(metric=metric, md=mean_diff, lower=lower, upper=upper))\n",
    "\n",
    "report_metric(\n",
    "    \"mean difference\",\n",
    "    *map(lambda x: x * 100, mean_difference(credit_risk, is_female)))\n",
    "report_metric(\n",
    "    \"normalized mean difference\",\n",
    "    *map(lambda x: x * 100, normalized_mean_difference(credit_risk, is_female)))"
   ]
  },
  {
   "cell_type": "markdown",
   "metadata": {},
   "source": [
    "## protected class: immigration status\n",
    "\n",
    "- advantaged group: `citizen worker`\n",
    "- disadvantaged group: `foreign worker`"
   ]
  },
  {
   "cell_type": "code",
   "execution_count": 7,
   "metadata": {},
   "outputs": [
    {
     "data": {
      "text/plain": [
       "1    963\n",
       "0     37\n",
       "Name: foreign_worker, dtype: int64"
      ]
     },
     "execution_count": 7,
     "metadata": {},
     "output_type": "execute_result"
    }
   ],
   "source": [
    "is_foreign = german_credit_preprocessed.foreign_worker\n",
    "is_foreign.value_counts()"
   ]
  },
  {
   "cell_type": "code",
   "execution_count": 8,
   "metadata": {},
   "outputs": [
    {
     "name": "stdout",
     "output_type": "stream",
     "text": [
      "mean difference: 19.93 - 95% CI [4.91, 34.94]\n",
      "normalized mean difference: 63.96 - 95% CI [15.76, 112.17]\n"
     ]
    }
   ],
   "source": [
    "report_metric(\n",
    "    \"mean difference\",\n",
    "    *map(lambda x: x * 100, mean_difference(credit_risk, is_foreign)))\n",
    "report_metric(\n",
    "    \"normalized mean difference\",\n",
    "    *map(lambda x: x * 100, normalized_mean_difference(credit_risk, is_foreign)))"
   ]
  },
  {
   "cell_type": "markdown",
   "metadata": {},
   "source": [
    "## protected class: age\n",
    "\n",
    "- advantaged group: `age above 25`\n",
    "- disadvantaged group: `age below 25`"
   ]
  },
  {
   "cell_type": "code",
   "execution_count": 9,
   "metadata": {},
   "outputs": [
    {
     "data": {
      "text/plain": [
       "False    810\n",
       "True     190\n",
       "Name: age_below_25, dtype: int64"
      ]
     },
     "execution_count": 9,
     "metadata": {},
     "output_type": "execute_result"
    }
   ],
   "source": [
    "age_below_25 = german_credit_preprocessed.age_below_25\n",
    "age_below_25.value_counts()"
   ]
  },
  {
   "cell_type": "code",
   "execution_count": 10,
   "metadata": {},
   "outputs": [
    {
     "name": "stdout",
     "output_type": "stream",
     "text": [
      "mean difference: 14.94 - 95% CI [7.76, 22.13]\n",
      "normalized mean difference: 17.29 - 95% CI [8.97, 25.61]\n"
     ]
    }
   ],
   "source": [
    "report_metric(\n",
    "    \"mean difference\",\n",
    "    *map(lambda x: x * 100, mean_difference(credit_risk, age_below_25)))\n",
    "report_metric(\n",
    "    \"normalized mean difference\",\n",
    "    *map(lambda x: x * 100, normalized_mean_difference(credit_risk, age_below_25)))"
   ]
  },
  {
   "cell_type": "markdown",
   "metadata": {},
   "source": [
    "These mean differences and confidence interval bounds suggest that\n",
    "on average:\n",
    "\n",
    "- **men** have \"good\" credit risk at a *7.48% higher rate* than **women**,\n",
    "  with a *lower bound of 1.35%* and  *upper bound of 13.61%*.\n",
    "- **citizen workers** have \"good\" credit risk at a *19.93%* higher rate\n",
    "  than **foreign workers**, with a *lower bound of 4.91%* and *upper\n",
    "  bound of 34.94%*.\n",
    "- **people above the age of 25** have \"good\" credit risk at a\n",
    "  *14.94% higher rate* than those below 25 with a *lower bound of 8.97%*\n",
    "  and *upper bound of 25.61%*."
   ]
  },
  {
   "cell_type": "markdown",
   "metadata": {},
   "source": [
    "# Establish Baseline Metrics\n",
    "\n",
    "Suppose that `Unjust Bank` wants to use these data to train a\n",
    "machine learning algorithm to classify new observations into the\n",
    "\"good credit risk\"/\"bad credit risk\" buckets.\n",
    "\n",
    "In scenario 1, let's also suppose that the data scientists at\n",
    "`Unjust Bank` are using typical, fairness-unaware modeling techniques.\n",
    "Furthermore, they give absolutely no thought into what inputs\n",
    "go into the learning process. Using this kitchen sink approach, they\n",
    "plan on using variables like `sex`, `age_below_25`, and `foreign_worker`\n",
    "to learn the classifier.\n",
    "\n",
    "However, a rogue element in the data science team is interested\n",
    "in at least measuring the potentially discriminatory (PD) patterns\n",
    "in the learned algorithms, so in addition to measure performance\n",
    "with metrics like `accuracy` or `ROC area under the curve`, also\n",
    "measures the degree to which the algorithm generates PD predictions\n",
    "that favor one social group over another.\n",
    "\n",
    "#### Procedure\n",
    "\n",
    "1. Specify model hyperparameter settings for training models.\n",
    "1. Partition the training data into 10 validation folds.\n",
    "1. For each of the validation folds, train model on the rest of the\n",
    "   data on each of the hyperparameter settings.\n",
    "1. Evaluate the performance of the model on the validation fold.\n",
    "1. Pick model with the best average performance to deploy to\n",
    "   production.\n",
    "\n",
    "Below we use `StratifiedKFold` so that we can partition our\n",
    "data according to the protected class of interest and train the\n",
    "the following models:\n",
    "\n",
    "- LogisticRegression\n",
    "- DecisionTreeClassifier\n",
    "- RandomForest"
   ]
  },
  {
   "cell_type": "code",
   "execution_count": 44,
   "metadata": {
    "collapsed": true
   },
   "outputs": [],
   "source": [
    "import itertools\n",
    "import numpy as np\n",
    "import pandas as pd\n",
    "\n",
    "from sklearn.model_selection import StratifiedKFold, RepeatedStratifiedKFold\n",
    "from sklearn.linear_model import LogisticRegression\n",
    "from sklearn.tree import DecisionTreeClassifier\n",
    "from sklearn.ensemble import RandomForestClassifier\n",
    "from sklearn.neural_network import MLPClassifier\n",
    "\n",
    "from sklearn.metrics import (\n",
    "    accuracy_score, roc_auc_score, f1_score)"
   ]
  },
  {
   "cell_type": "code",
   "execution_count": 12,
   "metadata": {
    "collapsed": true
   },
   "outputs": [],
   "source": [
    "# specify feature set. Note that we're excluding the `is_female`\n",
    "# and `age_below_25` columns that we created above.\n",
    "feature_set_1 = [\n",
    "    'duration_in_month',\n",
    "    'credit_amount',\n",
    "    'installment_rate_in_percentage_of_disposable_income',\n",
    "    'present_residence_since',\n",
    "    'age_in_years',\n",
    "    'number_of_existing_credits_at_this_bank',\n",
    "    'number_of_people_being_liable_to_provide_maintenance_for',\n",
    "    'status_of_existing_checking_account',\n",
    "    'savings_account/bonds',\n",
    "    'present_employment_since',\n",
    "    'job',\n",
    "    'telephone',\n",
    "    'foreign_worker',\n",
    "    'credit_history_all_credits_at_this_bank_paid_back_duly',\n",
    "    'credit_history_critical_account/other_credits_existing_not_at_this_bank',\n",
    "    'credit_history_delay_in_paying_off_in_the_past',\n",
    "    'credit_history_existing_credits_paid_back_duly_till_now',\n",
    "    'credit_history_no_credits_taken/all_credits_paid_back_duly',\n",
    "    'purpose_business',\n",
    "    'purpose_car_(new)',\n",
    "    'purpose_car_(used)',\n",
    "    'purpose_domestic_appliances',\n",
    "    'purpose_education',\n",
    "    'purpose_furniture/equipment',\n",
    "    'purpose_others',\n",
    "    'purpose_radio/television',\n",
    "    'purpose_repairs',\n",
    "    'purpose_retraining',\n",
    "    'personal_status_and_sex_female_divorced/separated/married',\n",
    "    'personal_status_and_sex_male_divorced/separated',\n",
    "    'personal_status_and_sex_male_married/widowed',\n",
    "    'personal_status_and_sex_male_single',\n",
    "    'other_debtors/guarantors_co-applicant',\n",
    "    'other_debtors/guarantors_guarantor',\n",
    "    'other_debtors/guarantors_none',\n",
    "    'property_building_society_savings_agreement/life_insurance',\n",
    "    'property_car_or_other',\n",
    "    'property_real_estate',\n",
    "    'property_unknown/no_property',\n",
    "    'other_installment_plans_bank',\n",
    "    'other_installment_plans_none',\n",
    "    'other_installment_plans_stores',\n",
    "    'housing_for free',\n",
    "    'housing_own',\n",
    "    'housing_rent',\n",
    "]"
   ]
  },
  {
   "cell_type": "code",
   "execution_count": 196,
   "metadata": {},
   "outputs": [
    {
     "name": "stdout",
     "output_type": "stream",
     "text": [
      "Training models: protected_class = female\n",
      "-----------------------------------------\n",
      "LogisticRegression, fold: 0 1 2 3 4 5 6 7 8 9 \n",
      "DecisionTree, fold: 0 1 2 3 4 5 6 7 8 9 \n",
      "RandomForest, fold: 0 1 2 3 4 5 6 7 8 9 \n",
      "\n",
      "Training models: protected_class = foreign_worker\n",
      "-------------------------------------------------\n",
      "LogisticRegression, fold: 0 1 2 3 4 5 6 7 8 9 \n",
      "DecisionTree, fold: 0 1 2 3 4 5 6 7 8 9 \n",
      "RandomForest, fold: 0 1 2 3 4 5 6 7 8 9 \n",
      "\n",
      "Training models: protected_class = age_below_25\n",
      "-----------------------------------------------\n",
      "LogisticRegression, fold: 0 1 2 3 4 5 6 7 8 9 \n",
      "DecisionTree, fold: 0 1 2 3 4 5 6 7 8 9 \n",
      "RandomForest, fold: 0 1 2 3 4 5 6 7 8 9 \n",
      "\n"
     ]
    }
   ],
   "source": [
    "N_SPLITS = 10\n",
    "N_REPEATS = 3\n",
    "RANDOM_STATE = 1000\n",
    "\n",
    "def get_estimator_name(e):\n",
    "    return \"\".join([x for x in str(type(e)).split(\".\")[-1]\n",
    "                    if x.isalpha()])\n",
    "\n",
    "\n",
    "def get_grid_params(grid_params_dict):\n",
    "    \"\"\"Get outer product of grid search parameters.\"\"\"\n",
    "    return [\n",
    "        dict(params) for params in itertools.product(\n",
    "            *[[(k, v_i) for v_i in v] for\n",
    "              k, v in grid_params_dict.items()])]\n",
    "\n",
    "\n",
    "def fit_with_s(estimator):\n",
    "    has_relabeller = getattr(estimator, \"relabeller\", None) is not None\n",
    "    child_estimator = getattr(estimator, \"estimator\", None)\n",
    "    estimator_fit_with_s = getattr(estimator, \"S_ON_FIT\", False)\n",
    "    child_estimator_fit_with_s = getattr(child_estimator, \"S_ON_FIT\", False)\n",
    "    return has_relabeller or estimator_fit_with_s or\\\n",
    "        child_estimator_fit_with_s\n",
    "    \n",
    "    \n",
    "def predict_with_s(estimator):\n",
    "    estimator_pred_with_s = getattr(estimator, \"S_ON_PREDICT\", False)\n",
    "    child_estimator = getattr(estimator, \"estimator\", None)\n",
    "    return estimator_pred_with_s or \\\n",
    "        getattr(child_estimator, \"S_ON_PREDICT\", False)\n",
    "\n",
    "def cross_validation_experiment(estimators, X, y, s, s_name, verbose=True):\n",
    "    msg = \"Training models: protected_class = %s\" % s_name\n",
    "    if verbose:\n",
    "        print(msg)\n",
    "        print(\"-\" * len(msg))\n",
    "    performance_scores = []\n",
    "    # stratified groups tries to balance out y and s\n",
    "    groups = [i + j for i, j in\n",
    "              zip(y.astype(str), s_female.astype(str))]\n",
    "    cv = StratifiedKFold(\n",
    "        n_splits=N_SPLITS,\n",
    "#         shuffle=True,\n",
    "        # n_repeats=N_REPEATS,\n",
    "        random_state=RANDOM_STATE)\n",
    "    for e_name, e in estimators:\n",
    "        if verbose:\n",
    "            print(\"%s, fold:\" % e_name),\n",
    "        for i, (train, test) in enumerate(cv.split(X, y, groups=groups)):\n",
    "            if verbose:\n",
    "                print(i),\n",
    "            # create train and validation fold partitions\n",
    "            X_train, X_test = X[train], X[test]\n",
    "            y_train, y_test = y[train], y[test]\n",
    "            s_train, s_test = s[train], s[test]\n",
    "\n",
    "            # fit model and generate train and test predictions\n",
    "            if fit_with_s(e):\n",
    "                e.fit(X_train, y_train, s_train)\n",
    "            else:\n",
    "                e.fit(X_train, y_train)\n",
    "                \n",
    "            train_pred_args = (X_train, s_train) if predict_with_s(e) \\\n",
    "                else (X_train, )\n",
    "            test_pred_args = (X_test, s_test) if predict_with_s(e) \\\n",
    "                else (X_test, )\n",
    "                \n",
    "            train_pred_prob = e.predict_proba(*train_pred_args)[:, 1]\n",
    "            train_pred = e.predict(*train_pred_args)\n",
    "            test_pred_prob = e.predict_proba(*test_pred_args)[:, 1]\n",
    "            test_pred = e.predict(*test_pred_args)\n",
    "\n",
    "            # train scores\n",
    "            performance_scores.append([\n",
    "                s_name, e_name, i, \"train\",\n",
    "                # regular metrics\n",
    "                roc_auc_score(y_train, train_pred_prob),\n",
    "\n",
    "                # fairness metrics\n",
    "                mean_difference(train_pred, s_train)[0],\n",
    "            ])\n",
    "            # test scores\n",
    "            performance_scores.append([\n",
    "                s_name, e_name, i, \"test\",\n",
    "                # regular metrics\n",
    "                roc_auc_score(y_test, test_pred_prob),\n",
    "                # fairness metrics\n",
    "                mean_difference(test_pred, s_test)[0]\n",
    "            ])\n",
    "        if verbose:\n",
    "            print(\"\")\n",
    "    if verbose:\n",
    "        print(\"\")\n",
    "    return pd.DataFrame(\n",
    "        performance_scores,\n",
    "        columns=[\n",
    "            \"protected_class\", \"estimator\", \"cv_fold\", \"fold_type\",\n",
    "            \"auc\", \"mean_diff\"])\n",
    "            \n",
    "# training and target data\n",
    "X = german_credit_preprocessed[feature_set_1].values\n",
    "y = german_credit_preprocessed[\"credit_risk\"].values\n",
    "s_female = german_credit_preprocessed[\"female\"].values\n",
    "s_foreign = german_credit_preprocessed[\"foreign_worker\"].values\n",
    "s_age_below_25 = german_credit_preprocessed[\"age_below_25\"].values\n",
    "\n",
    "LOGISTIC_REGRESSION = LogisticRegression(\n",
    "    penalty=\"l2\", C=0.001, class_weight=\"balanced\")\n",
    "DECISION_TREE_CLF = DecisionTreeClassifier(\n",
    "    criterion=\"entropy\", max_depth=10, min_samples_leaf=10, max_features=10,\n",
    "    class_weight=\"balanced\")\n",
    "RANDOM_FOREST_CLF = RandomForestClassifier(\n",
    "    criterion=\"entropy\", n_estimators=50, max_depth=10, max_features=10,\n",
    "    min_samples_leaf=10, class_weight=\"balanced\")\n",
    "estimators = [\n",
    "    (\"LogisticRegression\", LOGISTIC_REGRESSION),\n",
    "    (\"DecisionTree\", DECISION_TREE_CLF),\n",
    "    (\"RandomForest\", RANDOM_FOREST_CLF)\n",
    "]\n",
    "experiment_baseline_female = cross_validation_experiment(\n",
    "    estimators, X, y, s_female, \"female\")\n",
    "experiment_baseline_foreign = cross_validation_experiment(\n",
    "    estimators, X, y, s_foreign, \"foreign_worker\")\n",
    "experiment_baseline_age_below_25 = cross_validation_experiment(\n",
    "    estimators, X, y, s_age_below_25, \"age_below_25\")"
   ]
  },
  {
   "cell_type": "code",
   "execution_count": 197,
   "metadata": {},
   "outputs": [
    {
     "data": {
      "text/html": [
       "<div>\n",
       "<style>\n",
       "    .dataframe thead tr:only-child th {\n",
       "        text-align: right;\n",
       "    }\n",
       "\n",
       "    .dataframe thead th {\n",
       "        text-align: left;\n",
       "    }\n",
       "\n",
       "    .dataframe tbody tr th {\n",
       "        vertical-align: top;\n",
       "    }\n",
       "</style>\n",
       "<table border=\"1\" class=\"dataframe\">\n",
       "  <thead>\n",
       "    <tr style=\"text-align: right;\">\n",
       "      <th></th>\n",
       "      <th></th>\n",
       "      <th></th>\n",
       "      <th>auc</th>\n",
       "      <th>mean_diff</th>\n",
       "    </tr>\n",
       "    <tr>\n",
       "      <th>protected_class</th>\n",
       "      <th>estimator</th>\n",
       "      <th>fold_type</th>\n",
       "      <th></th>\n",
       "      <th></th>\n",
       "    </tr>\n",
       "  </thead>\n",
       "  <tbody>\n",
       "    <tr>\n",
       "      <th rowspan=\"3\" valign=\"top\">age_below_25</th>\n",
       "      <th>DecisionTree</th>\n",
       "      <th>test</th>\n",
       "      <td>0.668786</td>\n",
       "      <td>0.181773</td>\n",
       "    </tr>\n",
       "    <tr>\n",
       "      <th>LogisticRegression</th>\n",
       "      <th>test</th>\n",
       "      <td>0.673619</td>\n",
       "      <td>0.337183</td>\n",
       "    </tr>\n",
       "    <tr>\n",
       "      <th>RandomForest</th>\n",
       "      <th>test</th>\n",
       "      <td>0.786952</td>\n",
       "      <td>0.259036</td>\n",
       "    </tr>\n",
       "    <tr>\n",
       "      <th rowspan=\"3\" valign=\"top\">female</th>\n",
       "      <th>DecisionTree</th>\n",
       "      <th>test</th>\n",
       "      <td>0.670286</td>\n",
       "      <td>0.053503</td>\n",
       "    </tr>\n",
       "    <tr>\n",
       "      <th>LogisticRegression</th>\n",
       "      <th>test</th>\n",
       "      <td>0.673619</td>\n",
       "      <td>0.104857</td>\n",
       "    </tr>\n",
       "    <tr>\n",
       "      <th>RandomForest</th>\n",
       "      <th>test</th>\n",
       "      <td>0.784333</td>\n",
       "      <td>0.091791</td>\n",
       "    </tr>\n",
       "    <tr>\n",
       "      <th rowspan=\"3\" valign=\"top\">foreign_worker</th>\n",
       "      <th>DecisionTree</th>\n",
       "      <th>test</th>\n",
       "      <td>0.708571</td>\n",
       "      <td>0.255360</td>\n",
       "    </tr>\n",
       "    <tr>\n",
       "      <th>LogisticRegression</th>\n",
       "      <th>test</th>\n",
       "      <td>0.673619</td>\n",
       "      <td>0.286108</td>\n",
       "    </tr>\n",
       "    <tr>\n",
       "      <th>RandomForest</th>\n",
       "      <th>test</th>\n",
       "      <td>0.781619</td>\n",
       "      <td>0.185232</td>\n",
       "    </tr>\n",
       "  </tbody>\n",
       "</table>\n",
       "</div>"
      ],
      "text/plain": [
       "                                                   auc  mean_diff\n",
       "protected_class estimator          fold_type                     \n",
       "age_below_25    DecisionTree       test       0.668786   0.181773\n",
       "                LogisticRegression test       0.673619   0.337183\n",
       "                RandomForest       test       0.786952   0.259036\n",
       "female          DecisionTree       test       0.670286   0.053503\n",
       "                LogisticRegression test       0.673619   0.104857\n",
       "                RandomForest       test       0.784333   0.091791\n",
       "foreign_worker  DecisionTree       test       0.708571   0.255360\n",
       "                LogisticRegression test       0.673619   0.286108\n",
       "                RandomForest       test       0.781619   0.185232"
      ]
     },
     "execution_count": 197,
     "metadata": {},
     "output_type": "execute_result"
    }
   ],
   "source": [
    "import seaborn as sns\n",
    "import matplotlib.pyplot as plt\n",
    "% matplotlib inline\n",
    "\n",
    "UTILITY_METRICS = [\"auc\"]\n",
    "FAIRNESS_METRICS = [\"mean_diff\"]\n",
    "\n",
    "def summarize_experiment_results(experiment_df):\n",
    "    return (\n",
    "        experiment_df\n",
    "        .drop(\"cv_fold\", axis=1)\n",
    "        .groupby([\"protected_class\", \"estimator\", \"fold_type\"])\n",
    "        .mean())\n",
    "\n",
    "experiment_baseline = pd.concat([\n",
    "    experiment_baseline_female,\n",
    "    experiment_baseline_foreign,\n",
    "    experiment_baseline_age_below_25\n",
    "])\n",
    "experiment_baseline_summary = summarize_experiment_results(\n",
    "    experiment_baseline)\n",
    "experiment_baseline_summary.query(\"fold_type == 'test'\")"
   ]
  },
  {
   "cell_type": "code",
   "execution_count": 198,
   "metadata": {},
   "outputs": [
    {
     "data": {
      "image/png": "[encoded data removed]",
      "text/plain": [
       "<matplotlib.figure.Figure at 0x1214937d0>"
      ]
     },
     "metadata": {},
     "output_type": "display_data"
    }
   ],
   "source": [
    "def plot_experiment_results(experiment_results):\n",
    "    return (\n",
    "        experiment_results\n",
    "        .query(\"fold_type == 'test'\")\n",
    "        .drop([\"fold_type\", \"cv_fold\"], axis=1)\n",
    "        .pipe(pd.melt, id_vars=[\"protected_class\", \"estimator\"],\n",
    "              var_name=\"metric\", value_name=\"score\")\n",
    "        .pipe((sns.factorplot, \"data\"), y=\"metric\",\n",
    "              x=\"score\", hue=\"estimator\", col=\"protected_class\", col_wrap=3,\n",
    "              size=3.5, aspect=1.2, join=False, dodge=0.4))\n",
    "\n",
    "plot_experiment_results(experiment_baseline);"
   ]
  },
  {
   "cell_type": "markdown",
   "metadata": {},
   "source": [
    "It appears that the variance of `normalized_mean_difference`\n",
    "across the 10 cross-validation folds is higher than `mean_difference`,\n",
    "likely because the normalization factor `d_max` depends on the\n",
    "rate of positive labels in the data."
   ]
  },
  {
   "cell_type": "code",
   "execution_count": 199,
   "metadata": {},
   "outputs": [
    {
     "data": {
      "text/markdown": [
       "#### protected class = female:"
      ],
      "text/plain": [
       "<IPython.core.display.Markdown object>"
      ]
     },
     "metadata": {},
     "output_type": "display_data"
    },
    {
     "data": {
      "text/markdown": [
       "- best utility measured by auc (higher is better) = 0.784: RandomForest\n",
       "- best fairness measured by mean_diff (lower is better) = 0.054: DecisionTree\n"
      ],
      "text/plain": [
       "<IPython.core.display.Markdown object>"
      ]
     },
     "metadata": {},
     "output_type": "display_data"
    },
    {
     "data": {
      "text/markdown": [
       "#### protected class = foreign_worker:"
      ],
      "text/plain": [
       "<IPython.core.display.Markdown object>"
      ]
     },
     "metadata": {},
     "output_type": "display_data"
    },
    {
     "data": {
      "text/markdown": [
       "- best utility measured by auc (higher is better) = 0.782: RandomForest\n",
       "- best fairness measured by mean_diff (lower is better) = 0.185: RandomForest\n"
      ],
      "text/plain": [
       "<IPython.core.display.Markdown object>"
      ]
     },
     "metadata": {},
     "output_type": "display_data"
    },
    {
     "data": {
      "text/markdown": [
       "#### protected class = age_below_25:"
      ],
      "text/plain": [
       "<IPython.core.display.Markdown object>"
      ]
     },
     "metadata": {},
     "output_type": "display_data"
    },
    {
     "data": {
      "text/markdown": [
       "- best utility measured by auc (higher is better) = 0.787: RandomForest\n",
       "- best fairness measured by mean_diff (lower is better) = 0.182: DecisionTree\n"
      ],
      "text/plain": [
       "<IPython.core.display.Markdown object>"
      ]
     },
     "metadata": {},
     "output_type": "display_data"
    }
   ],
   "source": [
    "from IPython.display import Markdown, display\n",
    "\n",
    "def print_best_metrics(experiment_results, protected_classes):\n",
    "    for pclass in protected_classes:\n",
    "        msg = \"#### protected class = %s:\" % pclass\n",
    "        display(Markdown(msg))\n",
    "        exp_df = experiment_results[\n",
    "            (experiment_results[\"protected_class\"] == pclass) &\n",
    "            (experiment_results[\"fold_type\"] == \"test\")]\n",
    "        msg = \"\"\n",
    "        \n",
    "        for m in UTILITY_METRICS:\n",
    "            utility_msg = \\\n",
    "                \"- best utility measured by %s (higher is better)\" % m\n",
    "            best_model = (\n",
    "                exp_df\n",
    "                .sort_values(m, ascending=False)\n",
    "                .drop([\"fold_type\"], axis=1)\n",
    "                .iloc[0][[m, \"estimator\"]])\n",
    "            msg += utility_msg + \" = %0.03f: %s\\n\" % \\\n",
    "                   (best_model[0], best_model[1])\n",
    "        \n",
    "        for m in FAIRNESS_METRICS:\n",
    "            fairness_msg = \\\n",
    "                \"- best fairness measured by %s (lower is better)\" % m\n",
    "            best_model = (\n",
    "                exp_df\n",
    "                # score closer to zero is better\n",
    "                .assign(abs_measure=lambda df: df[m].abs())\n",
    "                .sort_values(\"abs_measure\")\n",
    "                .drop([\"abs_measure\", \"fold_type\"], axis=1)\n",
    "                .iloc[0][[m, \"estimator\"]])\n",
    "            msg += fairness_msg + \" = %0.03f: %s\\n\" % \\\n",
    "                   (best_model[0], best_model[1])\n",
    "        display(Markdown(msg))\n",
    "        \n",
    "print_best_metrics(\n",
    "    experiment_baseline_summary.reset_index(),\n",
    "    [\"female\", \"foreign_worker\", \"age_below_25\"])"
   ]
  },
  {
   "cell_type": "markdown",
   "metadata": {},
   "source": [
    "# Naive Fairness-aware Approach: Remove Protected Class\n",
    "\n",
    "The naive approach to training fairness-aware models is to remove the\n",
    "protected class variables from the input data. While at face value this\n",
    "approach might seem like a good measure to prevent the model from learning\n",
    "the discriminatory patterns in the raw data, it doesn't preclude the\n",
    "possibility of other non-protected class variables highly correlate with\n",
    "protected class variables.\n",
    "\n",
    "An well-known example of this is how `zipcode` correlates with `race`, so\n",
    "`zipcode` essentially serves as a proxy for `race` in the training data\n",
    "even if `race` is excluded from the input data."
   ]
  },
  {
   "cell_type": "code",
   "execution_count": 200,
   "metadata": {
    "collapsed": true
   },
   "outputs": [],
   "source": [
    "# create feature sets that remove variables with protected class information\n",
    "feature_set_no_sex = [\n",
    "    f for f in feature_set_1 if\n",
    "    f not in [\n",
    "        'personal_status_and_sex_female_divorced/separated/married',\n",
    "        'personal_status_and_sex_male_divorced/separated',\n",
    "        'personal_status_and_sex_male_married/widowed',\n",
    "        'personal_status_and_sex_male_single']]\n",
    "feature_set_no_foreign = [f for f in feature_set_1 if f != \"foreign_worker\"]\n",
    "feature_set_no_age = [f for f in feature_set_1 if f != \"age_in_years\"]"
   ]
  },
  {
   "cell_type": "code",
   "execution_count": 201,
   "metadata": {},
   "outputs": [
    {
     "name": "stdout",
     "output_type": "stream",
     "text": [
      "Training models: protected_class = female\n",
      "-----------------------------------------\n",
      "LogisticRegression, fold: 0 1 2 3 4 5 6 7 8 9 \n",
      "DecisionTree, fold: 0 1 2 3 4 5 6 7 8 9 \n",
      "RandomForest, fold: 0 1 2 3 4 5 6 7 8 9 \n",
      "\n",
      "Training models: protected_class = foreign_worker\n",
      "-------------------------------------------------\n",
      "LogisticRegression, fold: 0 1 2 3 4 5 6 7 8 9 \n",
      "DecisionTree, fold: 0 1 2 3 4 5 6 7 8 9 \n",
      "RandomForest, fold: 0 1 2 3 4 5 6 7 8 9 \n",
      "\n",
      "Training models: protected_class = age_below_25\n",
      "-----------------------------------------------\n",
      "LogisticRegression, fold: 0 1 2 3 4 5 6 7 8 9 \n",
      "DecisionTree, fold: 0 1 2 3 4 5 6 7 8 9 \n",
      "RandomForest, fold: 0 1 2 3 4 5 6 7 8 9 \n",
      "\n"
     ]
    }
   ],
   "source": [
    "# training and target data\n",
    "X_no_sex = german_credit_preprocessed[feature_set_no_sex].values\n",
    "X_no_foreign = german_credit_preprocessed[feature_set_no_foreign].values\n",
    "X_no_age = german_credit_preprocessed[feature_set_no_age].values\n",
    "\n",
    "experiment_naive_female = cross_validation_experiment(\n",
    "    estimators, X_no_sex, y, s_female, \"female\")\n",
    "experiment_naive_foreign = cross_validation_experiment(\n",
    "    estimators, X_no_foreign, y, s_foreign, \"foreign_worker\")\n",
    "experiment_naive_age_below_25 = cross_validation_experiment(\n",
    "    estimators, X_no_age, y, s_age_below_25, \"age_below_25\")"
   ]
  },
  {
   "cell_type": "code",
   "execution_count": 202,
   "metadata": {},
   "outputs": [
    {
     "data": {
      "text/html": [
       "<div>\n",
       "<style>\n",
       "    .dataframe thead tr:only-child th {\n",
       "        text-align: right;\n",
       "    }\n",
       "\n",
       "    .dataframe thead th {\n",
       "        text-align: left;\n",
       "    }\n",
       "\n",
       "    .dataframe tbody tr th {\n",
       "        vertical-align: top;\n",
       "    }\n",
       "</style>\n",
       "<table border=\"1\" class=\"dataframe\">\n",
       "  <thead>\n",
       "    <tr style=\"text-align: right;\">\n",
       "      <th></th>\n",
       "      <th></th>\n",
       "      <th></th>\n",
       "      <th>auc</th>\n",
       "      <th>mean_diff</th>\n",
       "    </tr>\n",
       "    <tr>\n",
       "      <th>protected_class</th>\n",
       "      <th>estimator</th>\n",
       "      <th>fold_type</th>\n",
       "      <th></th>\n",
       "      <th></th>\n",
       "    </tr>\n",
       "  </thead>\n",
       "  <tbody>\n",
       "    <tr>\n",
       "      <th rowspan=\"3\" valign=\"top\">age_below_25</th>\n",
       "      <th>DecisionTree</th>\n",
       "      <th>test</th>\n",
       "      <td>0.704071</td>\n",
       "      <td>0.143313</td>\n",
       "    </tr>\n",
       "    <tr>\n",
       "      <th>LogisticRegression</th>\n",
       "      <th>test</th>\n",
       "      <td>0.682381</td>\n",
       "      <td>0.116435</td>\n",
       "    </tr>\n",
       "    <tr>\n",
       "      <th>RandomForest</th>\n",
       "      <th>test</th>\n",
       "      <td>0.783048</td>\n",
       "      <td>0.176268</td>\n",
       "    </tr>\n",
       "    <tr>\n",
       "      <th rowspan=\"3\" valign=\"top\">female</th>\n",
       "      <th>DecisionTree</th>\n",
       "      <th>test</th>\n",
       "      <td>0.689286</td>\n",
       "      <td>0.021054</td>\n",
       "    </tr>\n",
       "    <tr>\n",
       "      <th>LogisticRegression</th>\n",
       "      <th>test</th>\n",
       "      <td>0.672238</td>\n",
       "      <td>0.072140</td>\n",
       "    </tr>\n",
       "    <tr>\n",
       "      <th>RandomForest</th>\n",
       "      <th>test</th>\n",
       "      <td>0.787762</td>\n",
       "      <td>0.055187</td>\n",
       "    </tr>\n",
       "    <tr>\n",
       "      <th rowspan=\"3\" valign=\"top\">foreign_worker</th>\n",
       "      <th>DecisionTree</th>\n",
       "      <th>test</th>\n",
       "      <td>0.691476</td>\n",
       "      <td>0.161225</td>\n",
       "    </tr>\n",
       "    <tr>\n",
       "      <th>LogisticRegression</th>\n",
       "      <th>test</th>\n",
       "      <td>0.673667</td>\n",
       "      <td>0.284035</td>\n",
       "    </tr>\n",
       "    <tr>\n",
       "      <th>RandomForest</th>\n",
       "      <th>test</th>\n",
       "      <td>0.787286</td>\n",
       "      <td>0.162138</td>\n",
       "    </tr>\n",
       "  </tbody>\n",
       "</table>\n",
       "</div>"
      ],
      "text/plain": [
       "                                                   auc  mean_diff\n",
       "protected_class estimator          fold_type                     \n",
       "age_below_25    DecisionTree       test       0.704071   0.143313\n",
       "                LogisticRegression test       0.682381   0.116435\n",
       "                RandomForest       test       0.783048   0.176268\n",
       "female          DecisionTree       test       0.689286   0.021054\n",
       "                LogisticRegression test       0.672238   0.072140\n",
       "                RandomForest       test       0.787762   0.055187\n",
       "foreign_worker  DecisionTree       test       0.691476   0.161225\n",
       "                LogisticRegression test       0.673667   0.284035\n",
       "                RandomForest       test       0.787286   0.162138"
      ]
     },
     "execution_count": 202,
     "metadata": {},
     "output_type": "execute_result"
    }
   ],
   "source": [
    "experiment_naive = pd.concat([\n",
    "    experiment_naive_female,\n",
    "    experiment_naive_foreign,\n",
    "    experiment_naive_age_below_25\n",
    "])\n",
    "experiment_naive_summary = summarize_experiment_results(experiment_naive)\n",
    "experiment_naive_summary.query(\"fold_type == 'test'\")"
   ]
  },
  {
   "cell_type": "code",
   "execution_count": 203,
   "metadata": {},
   "outputs": [
    {
     "data": {
      "image/png": "[encoded data removed]",
      "text/plain": [
       "<matplotlib.figure.Figure at 0x1221a22d0>"
      ]
     },
     "metadata": {},
     "output_type": "display_data"
    }
   ],
   "source": [
    "plot_experiment_results(experiment_naive);"
   ]
  },
  {
   "cell_type": "code",
   "execution_count": 204,
   "metadata": {},
   "outputs": [
    {
     "data": {
      "text/markdown": [
       "#### protected class = female:"
      ],
      "text/plain": [
       "<IPython.core.display.Markdown object>"
      ]
     },
     "metadata": {},
     "output_type": "display_data"
    },
    {
     "data": {
      "text/markdown": [
       "- best utility measured by auc (higher is better) = 0.788: RandomForest\n",
       "- best fairness measured by mean_diff (lower is better) = 0.021: DecisionTree\n"
      ],
      "text/plain": [
       "<IPython.core.display.Markdown object>"
      ]
     },
     "metadata": {},
     "output_type": "display_data"
    },
    {
     "data": {
      "text/markdown": [
       "#### protected class = foreign_worker:"
      ],
      "text/plain": [
       "<IPython.core.display.Markdown object>"
      ]
     },
     "metadata": {},
     "output_type": "display_data"
    },
    {
     "data": {
      "text/markdown": [
       "- best utility measured by auc (higher is better) = 0.787: RandomForest\n",
       "- best fairness measured by mean_diff (lower is better) = 0.161: DecisionTree\n"
      ],
      "text/plain": [
       "<IPython.core.display.Markdown object>"
      ]
     },
     "metadata": {},
     "output_type": "display_data"
    },
    {
     "data": {
      "text/markdown": [
       "#### protected class = age_below_25:"
      ],
      "text/plain": [
       "<IPython.core.display.Markdown object>"
      ]
     },
     "metadata": {},
     "output_type": "display_data"
    },
    {
     "data": {
      "text/markdown": [
       "- best utility measured by auc (higher is better) = 0.783: RandomForest\n",
       "- best fairness measured by mean_diff (lower is better) = 0.116: LogisticRegression\n"
      ],
      "text/plain": [
       "<IPython.core.display.Markdown object>"
      ]
     },
     "metadata": {},
     "output_type": "display_data"
    }
   ],
   "source": [
    "print_best_metrics(\n",
    "    experiment_naive_summary.reset_index(),\n",
    "    [\"female\", \"foreign_worker\", \"age_below_25\"])"
   ]
  },
  {
   "cell_type": "markdown",
   "metadata": {},
   "source": [
    "# Fairness-aware Method: Relabelling\n",
    "\n",
    "In this and the following fairness-aware modeling runs, we exclude the\n",
    "protected class variables as in the **Naive Fairness-aware Approach**\n",
    "section in addition to the explicit fairness-aware technique."
   ]
  },
  {
   "cell_type": "code",
   "execution_count": 205,
   "metadata": {},
   "outputs": [
    {
     "name": "stdout",
     "output_type": "stream",
     "text": [
      "Training models: protected_class = female\n",
      "-----------------------------------------\n",
      "LogisticRegression, fold: 0 1 2 3 4 5 6 7 8 9 \n",
      "DecisionTree, fold: 0 1 2 3 4 5 6 7 8 9 \n",
      "RandomForest, fold: 0 1 2 3 4 5 6 7 8 9 \n",
      "\n",
      "Training models: protected_class = foreign_worker\n",
      "-------------------------------------------------\n",
      "LogisticRegression, fold: 0 1 2 3 4 5 6 7 8 9 \n",
      "DecisionTree, fold: 0 1 2 3 4 5 6 7 8 9 \n",
      "RandomForest, fold: 0 1 2 3 4 5 6 7 8 9 \n",
      "\n",
      "Training models: protected_class = age_below_25\n",
      "-----------------------------------------------\n",
      "LogisticRegression, fold: 0 1 2 3 4 5 6 7 8 9 \n",
      "DecisionTree, fold: 0 1 2 3 4 5 6 7 8 9 \n",
      "RandomForest, fold: 0 1 2 3 4 5 6 7 8 9 \n",
      "\n"
     ]
    }
   ],
   "source": [
    "from sklearn.base import clone\n",
    "\n",
    "from themis_ml.preprocessing.relabelling import Relabeller\n",
    "from themis_ml.meta_estimators import FairnessAwareMetaEstimator\n",
    "\n",
    "# here we use the relabeller class to create new y vectors for each of the\n",
    "# protected class contexts.\n",
    "\n",
    "# we also use the FairnessAwareMetaEstimator as a convenience class to\n",
    "# compose together different fairness-aware methods. This wraps around the\n",
    "# estimators that we defined in the previous\n",
    "relabeller = Relabeller()\n",
    "relabelling_estimators = [\n",
    "    (name, FairnessAwareMetaEstimator(e, relabeller=relabeller))\n",
    "    for name, e in estimators]\n",
    "\n",
    "experiment_relabel_female = cross_validation_experiment(\n",
    "    relabelling_estimators, X_no_sex, y, s_female, \"female\")\n",
    "experiment_relabel_foreign = cross_validation_experiment(\n",
    "    relabelling_estimators, X_no_foreign, y, s_foreign, \"foreign_worker\")\n",
    "experiment_relabel_age_below_25 = cross_validation_experiment(\n",
    "    relabelling_estimators, X_no_age, y, s_age_below_25, \"age_below_25\")"
   ]
  },
  {
   "cell_type": "code",
   "execution_count": 206,
   "metadata": {},
   "outputs": [
    {
     "data": {
      "text/html": [
       "<div>\n",
       "<style>\n",
       "    .dataframe thead tr:only-child th {\n",
       "        text-align: right;\n",
       "    }\n",
       "\n",
       "    .dataframe thead th {\n",
       "        text-align: left;\n",
       "    }\n",
       "\n",
       "    .dataframe tbody tr th {\n",
       "        vertical-align: top;\n",
       "    }\n",
       "</style>\n",
       "<table border=\"1\" class=\"dataframe\">\n",
       "  <thead>\n",
       "    <tr style=\"text-align: right;\">\n",
       "      <th></th>\n",
       "      <th></th>\n",
       "      <th></th>\n",
       "      <th>auc</th>\n",
       "      <th>mean_diff</th>\n",
       "    </tr>\n",
       "    <tr>\n",
       "      <th>protected_class</th>\n",
       "      <th>estimator</th>\n",
       "      <th>fold_type</th>\n",
       "      <th></th>\n",
       "      <th></th>\n",
       "    </tr>\n",
       "  </thead>\n",
       "  <tbody>\n",
       "    <tr>\n",
       "      <th rowspan=\"3\" valign=\"top\">age_below_25</th>\n",
       "      <th>DecisionTree</th>\n",
       "      <th>test</th>\n",
       "      <td>0.675905</td>\n",
       "      <td>0.085699</td>\n",
       "    </tr>\n",
       "    <tr>\n",
       "      <th>LogisticRegression</th>\n",
       "      <th>test</th>\n",
       "      <td>0.676429</td>\n",
       "      <td>0.066849</td>\n",
       "    </tr>\n",
       "    <tr>\n",
       "      <th>RandomForest</th>\n",
       "      <th>test</th>\n",
       "      <td>0.764429</td>\n",
       "      <td>0.070515</td>\n",
       "    </tr>\n",
       "    <tr>\n",
       "      <th rowspan=\"3\" valign=\"top\">female</th>\n",
       "      <th>DecisionTree</th>\n",
       "      <th>test</th>\n",
       "      <td>0.711619</td>\n",
       "      <td>0.046486</td>\n",
       "    </tr>\n",
       "    <tr>\n",
       "      <th>LogisticRegression</th>\n",
       "      <th>test</th>\n",
       "      <td>0.669286</td>\n",
       "      <td>0.060313</td>\n",
       "    </tr>\n",
       "    <tr>\n",
       "      <th>RandomForest</th>\n",
       "      <th>test</th>\n",
       "      <td>0.774905</td>\n",
       "      <td>0.055879</td>\n",
       "    </tr>\n",
       "    <tr>\n",
       "      <th rowspan=\"3\" valign=\"top\">foreign_worker</th>\n",
       "      <th>DecisionTree</th>\n",
       "      <th>test</th>\n",
       "      <td>0.652429</td>\n",
       "      <td>0.231549</td>\n",
       "    </tr>\n",
       "    <tr>\n",
       "      <th>LogisticRegression</th>\n",
       "      <th>test</th>\n",
       "      <td>0.673619</td>\n",
       "      <td>0.286160</td>\n",
       "    </tr>\n",
       "    <tr>\n",
       "      <th>RandomForest</th>\n",
       "      <th>test</th>\n",
       "      <td>0.790381</td>\n",
       "      <td>0.119456</td>\n",
       "    </tr>\n",
       "  </tbody>\n",
       "</table>\n",
       "</div>"
      ],
      "text/plain": [
       "                                                   auc  mean_diff\n",
       "protected_class estimator          fold_type                     \n",
       "age_below_25    DecisionTree       test       0.675905   0.085699\n",
       "                LogisticRegression test       0.676429   0.066849\n",
       "                RandomForest       test       0.764429   0.070515\n",
       "female          DecisionTree       test       0.711619   0.046486\n",
       "                LogisticRegression test       0.669286   0.060313\n",
       "                RandomForest       test       0.774905   0.055879\n",
       "foreign_worker  DecisionTree       test       0.652429   0.231549\n",
       "                LogisticRegression test       0.673619   0.286160\n",
       "                RandomForest       test       0.790381   0.119456"
      ]
     },
     "execution_count": 206,
     "metadata": {},
     "output_type": "execute_result"
    }
   ],
   "source": [
    "experiment_relabel = pd.concat([\n",
    "    experiment_relabel_female,\n",
    "    experiment_relabel_foreign,\n",
    "    experiment_relabel_age_below_25\n",
    "])\n",
    "experiment_relabel_summary = summarize_experiment_results(experiment_relabel)\n",
    "experiment_relabel_summary.query(\"fold_type == 'test'\")"
   ]
  },
  {
   "cell_type": "code",
   "execution_count": 207,
   "metadata": {},
   "outputs": [
    {
     "data": {
      "image/png": "[encoded data removed]",
      "text/plain": [
       "<matplotlib.figure.Figure at 0x1214f3750>"
      ]
     },
     "metadata": {},
     "output_type": "display_data"
    }
   ],
   "source": [
    "plot_experiment_results(experiment_relabel);"
   ]
  },
  {
   "cell_type": "code",
   "execution_count": 208,
   "metadata": {},
   "outputs": [
    {
     "data": {
      "text/markdown": [
       "#### protected class = female:"
      ],
      "text/plain": [
       "<IPython.core.display.Markdown object>"
      ]
     },
     "metadata": {},
     "output_type": "display_data"
    },
    {
     "data": {
      "text/markdown": [
       "- best utility measured by auc (higher is better) = 0.775: RandomForest\n",
       "- best fairness measured by mean_diff (lower is better) = 0.046: DecisionTree\n"
      ],
      "text/plain": [
       "<IPython.core.display.Markdown object>"
      ]
     },
     "metadata": {},
     "output_type": "display_data"
    },
    {
     "data": {
      "text/markdown": [
       "#### protected class = foreign_worker:"
      ],
      "text/plain": [
       "<IPython.core.display.Markdown object>"
      ]
     },
     "metadata": {},
     "output_type": "display_data"
    },
    {
     "data": {
      "text/markdown": [
       "- best utility measured by auc (higher is better) = 0.790: RandomForest\n",
       "- best fairness measured by mean_diff (lower is better) = 0.119: RandomForest\n"
      ],
      "text/plain": [
       "<IPython.core.display.Markdown object>"
      ]
     },
     "metadata": {},
     "output_type": "display_data"
    },
    {
     "data": {
      "text/markdown": [
       "#### protected class = age_below_25:"
      ],
      "text/plain": [
       "<IPython.core.display.Markdown object>"
      ]
     },
     "metadata": {},
     "output_type": "display_data"
    },
    {
     "data": {
      "text/markdown": [
       "- best utility measured by auc (higher is better) = 0.764: RandomForest\n",
       "- best fairness measured by mean_diff (lower is better) = 0.067: LogisticRegression\n"
      ],
      "text/plain": [
       "<IPython.core.display.Markdown object>"
      ]
     },
     "metadata": {},
     "output_type": "display_data"
    }
   ],
   "source": [
    "print_best_metrics(\n",
    "    experiment_relabel_summary.reset_index(),\n",
    "    [\"female\", \"foreign_worker\", \"age_below_25\"])"
   ]
  },
  {
   "cell_type": "markdown",
   "metadata": {},
   "source": [
    "### Validation Curve: Logistic Regression"
   ]
  },
  {
   "cell_type": "code",
   "execution_count": 209,
   "metadata": {
    "collapsed": true
   },
   "outputs": [],
   "source": [
    "LOGREG_L2_PARAM = [\n",
    "    3, 1, 3e-1, 1e-1, 3e-2, 1e-2, 3e-3, 1e-3,\n",
    "    3e-4, 1e-4, 3e-5, 1e-5, 3e-6, 1e-6, 3e-7, 1e-7, 3e-8, 1e-8]\n",
    "\n",
    "def validation_curve_experiment(\n",
    "        estimator_name, estimator, param_name, param_list, update_func):\n",
    "    validaton_curve_experiment = []\n",
    "    for param in param_list:\n",
    "        e = clone(estimator)\n",
    "        e = update_func(e, param_name, param)\n",
    "        estimators = [(estimator_name, e)]\n",
    "        experiment_relabel_female = cross_validation_experiment(\n",
    "            estimators, X_no_sex, y, s_female, \"female\",\n",
    "            verbose=False)\n",
    "        experiment_relabel_foreign = cross_validation_experiment(\n",
    "            estimators, X_no_foreign, y, s_foreign, \"foreign_worker\",\n",
    "            verbose=False)\n",
    "        experiment_relabel_age_below_25 = cross_validation_experiment(\n",
    "            estimators, X_no_age, y, s_age_below_25, \"age_below_25\",\n",
    "            verbose=False)\n",
    "        validaton_curve_experiment.extend(\n",
    "            [experiment_relabel_female.assign(**{param_name: param}),\n",
    "             experiment_relabel_foreign.assign(**{param_name: param}),\n",
    "             experiment_relabel_age_below_25.assign(**{param_name: param})])\n",
    "    return pd.concat(validaton_curve_experiment)\n",
    "\n",
    "\n",
    "def update_relabeller(e, param_name, param):\n",
    "    e = clone(e)\n",
    "    child_estimator = clone(e.estimator)\n",
    "    child_estimator.set_params(**{param_name: param})\n",
    "    e.set_params(estimator=child_estimator)\n",
    "    return e\n",
    "        \n",
    "\n",
    "relabel_validaton_curve_experiment = validation_curve_experiment(\n",
    "    \"LogisticRegression\", FairnessAwareMetaEstimator(\n",
    "        LOGISTIC_REGRESSION, relabeller=Relabeller()),\n",
    "    \"C\", LOGREG_L2_PARAM, update_relabeller)"
   ]
  },
  {
   "cell_type": "code",
   "execution_count": 210,
   "metadata": {},
   "outputs": [
    {
     "data": {
      "image/png": "[encoded data removed]",
      "text/plain": [
       "<matplotlib.figure.Figure at 0x122159210>"
      ]
     },
     "metadata": {},
     "output_type": "display_data"
    }
   ],
   "source": [
    "def validation_curve_plot(x, y, **kwargs):\n",
    "    ax = plt.gca()\n",
    "    lw = 2.5\n",
    "    data = kwargs.pop(\"data\")\n",
    "    train_data = data.query(\"fold_type == 'train'\")\n",
    "    test_data = data.query(\"fold_type == 'test'\")\n",
    "    grp_data_train = train_data.groupby(x)\n",
    "    grp_data_test = test_data.groupby(x)\n",
    "    mean_data_train = grp_data_train[y].mean()\n",
    "    mean_data_test = grp_data_test[y].mean()\n",
    "    std_data_train = grp_data_train[y].std()\n",
    "    std_data_test = grp_data_test[y].std()\n",
    "    ax.semilogx(mean_data_train.index, mean_data_train,\n",
    "                label=\"train\", color=\"#848484\", lw=lw)\n",
    "    ax.semilogx(mean_data_test.index, mean_data_test,\n",
    "                label=\"test\", color=\"#ae33bf\", lw=lw)\n",
    "    # # Add error region\n",
    "    # ax.fill_between(mean_data_train.index, mean_data_train - std_data_train,\n",
    "    #                 mean_data_train + std_data_train, alpha=0.2,\n",
    "    #                 color=\"darkorange\", lw=lw)\n",
    "    # ax.fill_between(mean_data_test.index, mean_data_test - std_data_test,\n",
    "    #                 mean_data_test + std_data_test, alpha=0.1,\n",
    "    #                 color=\"navy\", lw=lw)\n",
    "\n",
    "relabel_validaton_curve_experiment_df = (\n",
    "    relabel_validaton_curve_experiment\n",
    "    .pipe(pd.melt,\n",
    "          id_vars=[\"protected_class\", \"estimator\", \"cv_fold\", \"fold_type\",\n",
    "                   \"C\"],\n",
    "          value_vars=[\"auc\", \"mean_diff\"],\n",
    "          var_name=\"metric\", value_name=\"score\")\n",
    "    .assign(\n",
    "        protected_class=lambda df: df.protected_class.str.replace(\"_\", \" \"),\n",
    "        metric=lambda df: df.metric.str.replace(\"_\", \" \"))\n",
    "    .rename(columns={\"score\": \"mean score\"})\n",
    ")\n",
    "\n",
    "# relabel_validaton_curve_experiment_df\n",
    "g = sns.FacetGrid(\n",
    "    relabel_validaton_curve_experiment_df,\n",
    "    row=\"protected_class\",\n",
    "    col=\"metric\", size=2.5, aspect=1.1, sharey=False,\n",
    "    margin_titles=False)\n",
    "g = g.map_dataframe(validation_curve_plot, \"C\", \"mean score\")\n",
    "g.set_titles(template=\"{row_name}, {col_name}\")\n",
    "# g.add_legend()\n",
    "# g.add_legend(bbox_to_anchor=(0.275, 0.91))\n",
    "g.add_legend(bbox_to_anchor=(0.28, 0.9))\n",
    "g.fig.tight_layout()\n",
    "g.savefig(\"IMG/logistic_regression_validation_curve.png\");"
   ]
  },
  {
   "cell_type": "code",
   "execution_count": 254,
   "metadata": {},
   "outputs": [
    {
     "data": {
      "image/png": "[encoded data removed]",
      "text/plain": [
       "<matplotlib.figure.Figure at 0x1201f0090>"
      ]
     },
     "metadata": {},
     "output_type": "display_data"
    }
   ],
   "source": [
    "def utility_fairness_corr_plot(x, y, **kwargs):\n",
    "    ax = plt.gca()\n",
    "    lw = 2\n",
    "    data = kwargs.pop(\"data\").sort_values(x)\n",
    "    data.plot(x, y, ax=ax, kind=\"scatter\", alpha=0.5)\n",
    "\n",
    "corr_plot = (\n",
    "    relabel_validaton_curve_experiment_df\n",
    "    .pivot_table(\n",
    "        index=[\"protected_class\", \"estimator\", \"cv_fold\", \"fold_type\",\"C\"],\n",
    "        columns=\"metric\", values=\"mean score\")\n",
    "    .reset_index()\n",
    ")\n",
    "\n",
    "train_test_palette = sns.color_palette([\"#ae33bf\", \"#848484\"])\n",
    "\n",
    "g = sns.FacetGrid(\n",
    "    corr_plot,\n",
    "    row=\"protected_class\",\n",
    "    row_order=[\"female\", \"foreign worker\", \"age below 25\"],\n",
    "    hue=\"fold_type\", size=2.75, aspect=1.25, sharey=False,\n",
    "    hue_order=[\"test\", \"train\"],\n",
    "    margin_titles=False,\n",
    "    palette=train_test_palette)\n",
    "(\n",
    "    g\n",
    "    .map(sns.regplot, \"auc\", \"mean diff\")\n",
    "    .set_titles(row_template=\"{row_name}\")\n",
    "    .add_legend()\n",
    "#     .add_legend(title=\"\", bbox_to_anchor=(0.95, 0.5))\n",
    ");\n",
    "g.savefig(\"IMG/logistic_regression_fairness_utility_tradeoff.png\");"
   ]
  },
  {
   "cell_type": "markdown",
   "metadata": {},
   "source": [
    "# Fairness-aware Method: Additive Counterfactually Fair Model"
   ]
  },
  {
   "cell_type": "code",
   "execution_count": 212,
   "metadata": {},
   "outputs": [
    {
     "name": "stdout",
     "output_type": "stream",
     "text": [
      "Training models: protected_class = female\n",
      "-----------------------------------------\n",
      "LogisticRegression, fold: 0 1 2 3 4 5 6 7 8 9 \n",
      "DecisionTree, fold: 0 1 2 3 4 5 6 7 8 9 \n",
      "RandomForest, fold: 0 1 2 3 4 5 6 7 8 9 \n",
      "\n",
      "Training models: protected_class = foreign_worker\n",
      "-------------------------------------------------\n",
      "LogisticRegression, fold: 0 1 2 3 4 5 6 7 8 9 \n",
      "DecisionTree, fold: 0 1 2 3 4 5 6 7 8 9 \n",
      "RandomForest, fold: 0 1 2 3 4 5 6 7 8 9 \n",
      "\n",
      "Training models: protected_class = age_below_25\n",
      "-----------------------------------------------\n",
      "LogisticRegression, fold: 0 1 2 3 4 5 6 7 8 9 \n",
      "DecisionTree, fold: 0 1 2 3 4 5 6 7 8 9 \n",
      "RandomForest, fold: 0 1 2 3 4 5 6 7 8 9 \n",
      "\n"
     ]
    }
   ],
   "source": [
    "from sklearn.linear_model import LinearRegression\n",
    "from sklearn.ensemble import RandomForestRegressor\n",
    "from sklearn.tree import DecisionTreeRegressor\n",
    "\n",
    "from themis_ml.linear_model.counterfactually_fair_models import \\\n",
    "    LinearACFClassifier\n",
    "\n",
    "LINEAR_REG = LinearRegression()\n",
    "DECISION_TREE_REG = DecisionTreeRegressor(max_depth=10, min_samples_leaf=10)\n",
    "RANDOM_FOREST_REG = RandomForestRegressor(\n",
    "    n_estimators=50, max_depth=10, min_samples_leaf=10)\n",
    "\n",
    "# use the estimators defined above to define the linear additive\n",
    "# counterfactually fair models\n",
    "linear_acf_estimators = [\n",
    "    (name, LinearACFClassifier(\n",
    "         target_estimator=e,\n",
    "         binary_residual_type=\"absolute\"))\n",
    "    for name, e in estimators]\n",
    "\n",
    "experiment_acf_female = cross_validation_experiment(\n",
    "    linear_acf_estimators, X_no_sex, y, s_female, \"female\")\n",
    "experiment_acf_foreign = cross_validation_experiment(\n",
    "    linear_acf_estimators, X_no_foreign, y, s_foreign, \"foreign_worker\")\n",
    "experiment_acf_age_below_25 = cross_validation_experiment(\n",
    "    linear_acf_estimators, X_no_age, y, s_age_below_25, \"age_below_25\")"
   ]
  },
  {
   "cell_type": "code",
   "execution_count": 213,
   "metadata": {},
   "outputs": [
    {
     "data": {
      "text/html": [
       "<div>\n",
       "<style>\n",
       "    .dataframe thead tr:only-child th {\n",
       "        text-align: right;\n",
       "    }\n",
       "\n",
       "    .dataframe thead th {\n",
       "        text-align: left;\n",
       "    }\n",
       "\n",
       "    .dataframe tbody tr th {\n",
       "        vertical-align: top;\n",
       "    }\n",
       "</style>\n",
       "<table border=\"1\" class=\"dataframe\">\n",
       "  <thead>\n",
       "    <tr style=\"text-align: right;\">\n",
       "      <th></th>\n",
       "      <th></th>\n",
       "      <th></th>\n",
       "      <th>auc</th>\n",
       "      <th>mean_diff</th>\n",
       "    </tr>\n",
       "    <tr>\n",
       "      <th>protected_class</th>\n",
       "      <th>estimator</th>\n",
       "      <th>fold_type</th>\n",
       "      <th></th>\n",
       "      <th></th>\n",
       "    </tr>\n",
       "  </thead>\n",
       "  <tbody>\n",
       "    <tr>\n",
       "      <th rowspan=\"3\" valign=\"top\">age_below_25</th>\n",
       "      <th>DecisionTree</th>\n",
       "      <th>test</th>\n",
       "      <td>0.710048</td>\n",
       "      <td>0.220084</td>\n",
       "    </tr>\n",
       "    <tr>\n",
       "      <th>LogisticRegression</th>\n",
       "      <th>test</th>\n",
       "      <td>0.666381</td>\n",
       "      <td>-0.022842</td>\n",
       "    </tr>\n",
       "    <tr>\n",
       "      <th>RandomForest</th>\n",
       "      <th>test</th>\n",
       "      <td>0.787524</td>\n",
       "      <td>0.374574</td>\n",
       "    </tr>\n",
       "    <tr>\n",
       "      <th rowspan=\"3\" valign=\"top\">female</th>\n",
       "      <th>DecisionTree</th>\n",
       "      <th>test</th>\n",
       "      <td>0.702429</td>\n",
       "      <td>0.167098</td>\n",
       "    </tr>\n",
       "    <tr>\n",
       "      <th>LogisticRegression</th>\n",
       "      <th>test</th>\n",
       "      <td>0.668810</td>\n",
       "      <td>0.043642</td>\n",
       "    </tr>\n",
       "    <tr>\n",
       "      <th>RandomForest</th>\n",
       "      <th>test</th>\n",
       "      <td>0.789000</td>\n",
       "      <td>0.134816</td>\n",
       "    </tr>\n",
       "    <tr>\n",
       "      <th rowspan=\"3\" valign=\"top\">foreign_worker</th>\n",
       "      <th>DecisionTree</th>\n",
       "      <th>test</th>\n",
       "      <td>0.675952</td>\n",
       "      <td>0.444736</td>\n",
       "    </tr>\n",
       "    <tr>\n",
       "      <th>LogisticRegression</th>\n",
       "      <th>test</th>\n",
       "      <td>0.665190</td>\n",
       "      <td>0.138082</td>\n",
       "    </tr>\n",
       "    <tr>\n",
       "      <th>RandomForest</th>\n",
       "      <th>test</th>\n",
       "      <td>0.786952</td>\n",
       "      <td>0.326778</td>\n",
       "    </tr>\n",
       "  </tbody>\n",
       "</table>\n",
       "</div>"
      ],
      "text/plain": [
       "                                                   auc  mean_diff\n",
       "protected_class estimator          fold_type                     \n",
       "age_below_25    DecisionTree       test       0.710048   0.220084\n",
       "                LogisticRegression test       0.666381  -0.022842\n",
       "                RandomForest       test       0.787524   0.374574\n",
       "female          DecisionTree       test       0.702429   0.167098\n",
       "                LogisticRegression test       0.668810   0.043642\n",
       "                RandomForest       test       0.789000   0.134816\n",
       "foreign_worker  DecisionTree       test       0.675952   0.444736\n",
       "                LogisticRegression test       0.665190   0.138082\n",
       "                RandomForest       test       0.786952   0.326778"
      ]
     },
     "execution_count": 213,
     "metadata": {},
     "output_type": "execute_result"
    }
   ],
   "source": [
    "experiment_acf = pd.concat([\n",
    "    experiment_acf_female,\n",
    "    experiment_acf_foreign,\n",
    "    experiment_acf_age_below_25\n",
    "])\n",
    "experiment_acf_summary = summarize_experiment_results(experiment_acf)\n",
    "experiment_acf_summary.query(\"fold_type == 'test'\")"
   ]
  },
  {
   "cell_type": "code",
   "execution_count": 214,
   "metadata": {},
   "outputs": [
    {
     "data": {
      "text/html": [
       "<div>\n",
       "<style>\n",
       "    .dataframe thead tr:only-child th {\n",
       "        text-align: right;\n",
       "    }\n",
       "\n",
       "    .dataframe thead th {\n",
       "        text-align: left;\n",
       "    }\n",
       "\n",
       "    .dataframe tbody tr th {\n",
       "        vertical-align: top;\n",
       "    }\n",
       "</style>\n",
       "<table border=\"1\" class=\"dataframe\">\n",
       "  <thead>\n",
       "    <tr style=\"text-align: right;\">\n",
       "      <th></th>\n",
       "      <th></th>\n",
       "      <th></th>\n",
       "      <th>auc</th>\n",
       "      <th>mean_diff</th>\n",
       "    </tr>\n",
       "    <tr>\n",
       "      <th>protected_class</th>\n",
       "      <th>estimator</th>\n",
       "      <th>fold_type</th>\n",
       "      <th></th>\n",
       "      <th></th>\n",
       "    </tr>\n",
       "  </thead>\n",
       "  <tbody>\n",
       "    <tr>\n",
       "      <th rowspan=\"3\" valign=\"top\">age_below_25</th>\n",
       "      <th>DecisionTree</th>\n",
       "      <th>test</th>\n",
       "      <td>0.710048</td>\n",
       "      <td>0.220084</td>\n",
       "    </tr>\n",
       "    <tr>\n",
       "      <th>LogisticRegression</th>\n",
       "      <th>test</th>\n",
       "      <td>0.666381</td>\n",
       "      <td>-0.022842</td>\n",
       "    </tr>\n",
       "    <tr>\n",
       "      <th>RandomForest</th>\n",
       "      <th>test</th>\n",
       "      <td>0.787524</td>\n",
       "      <td>0.374574</td>\n",
       "    </tr>\n",
       "    <tr>\n",
       "      <th rowspan=\"3\" valign=\"top\">female</th>\n",
       "      <th>DecisionTree</th>\n",
       "      <th>test</th>\n",
       "      <td>0.702429</td>\n",
       "      <td>0.167098</td>\n",
       "    </tr>\n",
       "    <tr>\n",
       "      <th>LogisticRegression</th>\n",
       "      <th>test</th>\n",
       "      <td>0.668810</td>\n",
       "      <td>0.043642</td>\n",
       "    </tr>\n",
       "    <tr>\n",
       "      <th>RandomForest</th>\n",
       "      <th>test</th>\n",
       "      <td>0.789000</td>\n",
       "      <td>0.134816</td>\n",
       "    </tr>\n",
       "    <tr>\n",
       "      <th rowspan=\"3\" valign=\"top\">foreign_worker</th>\n",
       "      <th>DecisionTree</th>\n",
       "      <th>test</th>\n",
       "      <td>0.675952</td>\n",
       "      <td>0.444736</td>\n",
       "    </tr>\n",
       "    <tr>\n",
       "      <th>LogisticRegression</th>\n",
       "      <th>test</th>\n",
       "      <td>0.665190</td>\n",
       "      <td>0.138082</td>\n",
       "    </tr>\n",
       "    <tr>\n",
       "      <th>RandomForest</th>\n",
       "      <th>test</th>\n",
       "      <td>0.786952</td>\n",
       "      <td>0.326778</td>\n",
       "    </tr>\n",
       "  </tbody>\n",
       "</table>\n",
       "</div>"
      ],
      "text/plain": [
       "                                                   auc  mean_diff\n",
       "protected_class estimator          fold_type                     \n",
       "age_below_25    DecisionTree       test       0.710048   0.220084\n",
       "                LogisticRegression test       0.666381  -0.022842\n",
       "                RandomForest       test       0.787524   0.374574\n",
       "female          DecisionTree       test       0.702429   0.167098\n",
       "                LogisticRegression test       0.668810   0.043642\n",
       "                RandomForest       test       0.789000   0.134816\n",
       "foreign_worker  DecisionTree       test       0.675952   0.444736\n",
       "                LogisticRegression test       0.665190   0.138082\n",
       "                RandomForest       test       0.786952   0.326778"
      ]
     },
     "execution_count": 214,
     "metadata": {},
     "output_type": "execute_result"
    }
   ],
   "source": [
    "experiment_acf = pd.concat([\n",
    "    experiment_acf_female,\n",
    "    experiment_acf_foreign,\n",
    "    experiment_acf_age_below_25\n",
    "])\n",
    "experiment_acf_summary = summarize_experiment_results(experiment_acf)\n",
    "experiment_acf_summary.query(\"fold_type == 'test'\")"
   ]
  },
  {
   "cell_type": "code",
   "execution_count": 215,
   "metadata": {},
   "outputs": [
    {
     "data": {
      "image/png": "[encoded data removed]",
      "text/plain": [
       "<matplotlib.figure.Figure at 0x1212a63d0>"
      ]
     },
     "metadata": {},
     "output_type": "display_data"
    }
   ],
   "source": [
    "plot_experiment_results(experiment_acf);"
   ]
  },
  {
   "cell_type": "code",
   "execution_count": 216,
   "metadata": {},
   "outputs": [
    {
     "data": {
      "text/markdown": [
       "#### protected class = female:"
      ],
      "text/plain": [
       "<IPython.core.display.Markdown object>"
      ]
     },
     "metadata": {},
     "output_type": "display_data"
    },
    {
     "data": {
      "text/markdown": [
       "- best utility measured by auc (higher is better) = 0.789: RandomForest\n",
       "- best fairness measured by mean_diff (lower is better) = 0.044: LogisticRegression\n"
      ],
      "text/plain": [
       "<IPython.core.display.Markdown object>"
      ]
     },
     "metadata": {},
     "output_type": "display_data"
    },
    {
     "data": {
      "text/markdown": [
       "#### protected class = foreign_worker:"
      ],
      "text/plain": [
       "<IPython.core.display.Markdown object>"
      ]
     },
     "metadata": {},
     "output_type": "display_data"
    },
    {
     "data": {
      "text/markdown": [
       "- best utility measured by auc (higher is better) = 0.787: RandomForest\n",
       "- best fairness measured by mean_diff (lower is better) = 0.138: LogisticRegression\n"
      ],
      "text/plain": [
       "<IPython.core.display.Markdown object>"
      ]
     },
     "metadata": {},
     "output_type": "display_data"
    },
    {
     "data": {
      "text/markdown": [
       "#### protected class = age_below_25:"
      ],
      "text/plain": [
       "<IPython.core.display.Markdown object>"
      ]
     },
     "metadata": {},
     "output_type": "display_data"
    },
    {
     "data": {
      "text/markdown": [
       "- best utility measured by auc (higher is better) = 0.788: RandomForest\n",
       "- best fairness measured by mean_diff (lower is better) = -0.023: LogisticRegression\n"
      ],
      "text/plain": [
       "<IPython.core.display.Markdown object>"
      ]
     },
     "metadata": {},
     "output_type": "display_data"
    }
   ],
   "source": [
    "print_best_metrics(\n",
    "    experiment_acf_summary.reset_index(),\n",
    "    [\"female\", \"foreign_worker\", \"age_below_25\"])"
   ]
  },
  {
   "cell_type": "markdown",
   "metadata": {},
   "source": [
    "# Fairness-aware Method: Reject-option Classification"
   ]
  },
  {
   "cell_type": "code",
   "execution_count": 217,
   "metadata": {},
   "outputs": [
    {
     "name": "stdout",
     "output_type": "stream",
     "text": [
      "Training models: protected_class = female\n",
      "-----------------------------------------\n",
      "LogisticRegression, fold: 0 1 2 3 4 5 6 7 8 9 \n",
      "DecisionTree, fold: 0 1 2 3 4 5 6 7 8 9 \n",
      "RandomForest, fold: 0 1 2 3 4 5 6 7 8 9 \n",
      "\n",
      "Training models: protected_class = foreign_worker\n",
      "-------------------------------------------------\n",
      "LogisticRegression, fold: 0 1 2 3 4 5 6 7 8 9 \n",
      "DecisionTree, fold: 0 1 2 3 4 5 6 7 8 9 \n",
      "RandomForest, fold: 0 1 2 3 4 5 6 7 8 9 \n",
      "\n",
      "Training models: protected_class = age_below_25\n",
      "-----------------------------------------------\n",
      "LogisticRegression, fold: 0 1 2 3 4 5 6 7 8 9 \n",
      "DecisionTree, fold: 0 1 2 3 4 5 6 7 8 9 \n",
      "RandomForest, fold: 0 1 2 3 4 5 6 7 8 9 \n",
      "\n"
     ]
    }
   ],
   "source": [
    "from themis_ml.postprocessing.reject_option_classification import \\\n",
    "    SingleROClassifier\n",
    "\n",
    "# use the estimators defined above to define the linear additive\n",
    "# counterfactually fair models\n",
    "single_roc_clf_estimators = [\n",
    "    (name, SingleROClassifier(estimator=e))\n",
    "    for name, e in estimators]\n",
    "\n",
    "experiment_single_roc_female = cross_validation_experiment(\n",
    "    single_roc_clf_estimators, X_no_sex, y, s_female, \"female\")\n",
    "experiment_single_roc_foreign = cross_validation_experiment(\n",
    "    single_roc_clf_estimators, X_no_foreign, y, s_foreign, \"foreign_worker\")\n",
    "experiment_single_roc_age_below_25 = cross_validation_experiment(\n",
    "    single_roc_clf_estimators, X_no_age, y, s_age_below_25, \"age_below_25\")"
   ]
  },
  {
   "cell_type": "code",
   "execution_count": 218,
   "metadata": {},
   "outputs": [
    {
     "data": {
      "text/html": [
       "<div>\n",
       "<style>\n",
       "    .dataframe thead tr:only-child th {\n",
       "        text-align: right;\n",
       "    }\n",
       "\n",
       "    .dataframe thead th {\n",
       "        text-align: left;\n",
       "    }\n",
       "\n",
       "    .dataframe tbody tr th {\n",
       "        vertical-align: top;\n",
       "    }\n",
       "</style>\n",
       "<table border=\"1\" class=\"dataframe\">\n",
       "  <thead>\n",
       "    <tr style=\"text-align: right;\">\n",
       "      <th></th>\n",
       "      <th></th>\n",
       "      <th></th>\n",
       "      <th>auc</th>\n",
       "      <th>mean_diff</th>\n",
       "    </tr>\n",
       "    <tr>\n",
       "      <th>protected_class</th>\n",
       "      <th>estimator</th>\n",
       "      <th>fold_type</th>\n",
       "      <th></th>\n",
       "      <th></th>\n",
       "    </tr>\n",
       "  </thead>\n",
       "  <tbody>\n",
       "    <tr>\n",
       "      <th rowspan=\"3\" valign=\"top\">age_below_25</th>\n",
       "      <th>DecisionTree</th>\n",
       "      <th>test</th>\n",
       "      <td>0.694786</td>\n",
       "      <td>0.081250</td>\n",
       "    </tr>\n",
       "    <tr>\n",
       "      <th>LogisticRegression</th>\n",
       "      <th>test</th>\n",
       "      <td>0.539905</td>\n",
       "      <td>-0.047437</td>\n",
       "    </tr>\n",
       "    <tr>\n",
       "      <th>RandomForest</th>\n",
       "      <th>test</th>\n",
       "      <td>0.767143</td>\n",
       "      <td>0.129876</td>\n",
       "    </tr>\n",
       "    <tr>\n",
       "      <th rowspan=\"3\" valign=\"top\">female</th>\n",
       "      <th>DecisionTree</th>\n",
       "      <th>test</th>\n",
       "      <td>0.690024</td>\n",
       "      <td>-0.022866</td>\n",
       "    </tr>\n",
       "    <tr>\n",
       "      <th>LogisticRegression</th>\n",
       "      <th>test</th>\n",
       "      <td>0.608524</td>\n",
       "      <td>-0.049494</td>\n",
       "    </tr>\n",
       "    <tr>\n",
       "      <th>RandomForest</th>\n",
       "      <th>test</th>\n",
       "      <td>0.761048</td>\n",
       "      <td>0.011103</td>\n",
       "    </tr>\n",
       "    <tr>\n",
       "      <th rowspan=\"3\" valign=\"top\">foreign_worker</th>\n",
       "      <th>DecisionTree</th>\n",
       "      <th>test</th>\n",
       "      <td>0.674762</td>\n",
       "      <td>0.133963</td>\n",
       "    </tr>\n",
       "    <tr>\n",
       "      <th>LogisticRegression</th>\n",
       "      <th>test</th>\n",
       "      <td>0.619429</td>\n",
       "      <td>0.032667</td>\n",
       "    </tr>\n",
       "    <tr>\n",
       "      <th>RandomForest</th>\n",
       "      <th>test</th>\n",
       "      <td>0.761381</td>\n",
       "      <td>0.140321</td>\n",
       "    </tr>\n",
       "  </tbody>\n",
       "</table>\n",
       "</div>"
      ],
      "text/plain": [
       "                                                   auc  mean_diff\n",
       "protected_class estimator          fold_type                     \n",
       "age_below_25    DecisionTree       test       0.694786   0.081250\n",
       "                LogisticRegression test       0.539905  -0.047437\n",
       "                RandomForest       test       0.767143   0.129876\n",
       "female          DecisionTree       test       0.690024  -0.022866\n",
       "                LogisticRegression test       0.608524  -0.049494\n",
       "                RandomForest       test       0.761048   0.011103\n",
       "foreign_worker  DecisionTree       test       0.674762   0.133963\n",
       "                LogisticRegression test       0.619429   0.032667\n",
       "                RandomForest       test       0.761381   0.140321"
      ]
     },
     "execution_count": 218,
     "metadata": {},
     "output_type": "execute_result"
    }
   ],
   "source": [
    "experiment_single_roc = pd.concat([\n",
    "    experiment_single_roc_female,\n",
    "    experiment_single_roc_foreign,\n",
    "    experiment_single_roc_age_below_25\n",
    "])\n",
    "experiment_single_roc_summary = summarize_experiment_results(\n",
    "    experiment_single_roc)\n",
    "experiment_single_roc_summary.query(\"fold_type == 'test'\")"
   ]
  },
  {
   "cell_type": "code",
   "execution_count": 219,
   "metadata": {},
   "outputs": [
    {
     "data": {
      "image/png": "[encoded data removed]",
      "text/plain": [
       "<matplotlib.figure.Figure at 0x11efbeb90>"
      ]
     },
     "metadata": {},
     "output_type": "display_data"
    }
   ],
   "source": [
    "plot_experiment_results(experiment_acf);"
   ]
  },
  {
   "cell_type": "code",
   "execution_count": 220,
   "metadata": {},
   "outputs": [
    {
     "data": {
      "text/markdown": [
       "#### protected class = female:"
      ],
      "text/plain": [
       "<IPython.core.display.Markdown object>"
      ]
     },
     "metadata": {},
     "output_type": "display_data"
    },
    {
     "data": {
      "text/markdown": [
       "- best utility measured by auc (higher is better) = 0.861: RandomForest\n",
       "- best fairness measured by mean_diff (lower is better) = 0.015: DecisionTree\n"
      ],
      "text/plain": [
       "<IPython.core.display.Markdown object>"
      ]
     },
     "metadata": {},
     "output_type": "display_data"
    },
    {
     "data": {
      "text/markdown": [
       "#### protected class = foreign_worker:"
      ],
      "text/plain": [
       "<IPython.core.display.Markdown object>"
      ]
     },
     "metadata": {},
     "output_type": "display_data"
    },
    {
     "data": {
      "text/markdown": [
       "- best utility measured by auc (higher is better) = 0.842: RandomForest\n",
       "- best fairness measured by mean_diff (lower is better) = -0.082: LogisticRegression\n"
      ],
      "text/plain": [
       "<IPython.core.display.Markdown object>"
      ]
     },
     "metadata": {},
     "output_type": "display_data"
    },
    {
     "data": {
      "text/markdown": [
       "#### protected class = age_below_25:"
      ],
      "text/plain": [
       "<IPython.core.display.Markdown object>"
      ]
     },
     "metadata": {},
     "output_type": "display_data"
    },
    {
     "data": {
      "text/markdown": [
       "- best utility measured by auc (higher is better) = 0.841: RandomForest\n",
       "- best fairness measured by mean_diff (lower is better) = 0.024: DecisionTree\n"
      ],
      "text/plain": [
       "<IPython.core.display.Markdown object>"
      ]
     },
     "metadata": {},
     "output_type": "display_data"
    }
   ],
   "source": [
    "print_best_metrics(\n",
    "    experiment_acf.reset_index(),\n",
    "    [\"female\", \"foreign_worker\", \"age_below_25\"])"
   ]
  },
  {
   "cell_type": "markdown",
   "metadata": {},
   "source": [
    "# Comparison of Fairness-aware Techniques"
   ]
  },
  {
   "cell_type": "code",
   "execution_count": 368,
   "metadata": {},
   "outputs": [
    {
     "data": {
      "text/html": [
       "<div>\n",
       "<style>\n",
       "    .dataframe thead tr:only-child th {\n",
       "        text-align: right;\n",
       "    }\n",
       "\n",
       "    .dataframe thead th {\n",
       "        text-align: left;\n",
       "    }\n",
       "\n",
       "    .dataframe tbody tr th {\n",
       "        vertical-align: top;\n",
       "    }\n",
       "</style>\n",
       "<table border=\"1\" class=\"dataframe\">\n",
       "  <thead>\n",
       "    <tr style=\"text-align: right;\">\n",
       "      <th></th>\n",
       "      <th>protected_class</th>\n",
       "      <th>estimator</th>\n",
       "      <th>cv_fold</th>\n",
       "      <th>fold_type</th>\n",
       "      <th>auc</th>\n",
       "      <th>mean_diff</th>\n",
       "      <th>experiment</th>\n",
       "    </tr>\n",
       "  </thead>\n",
       "  <tbody>\n",
       "    <tr>\n",
       "      <th>0</th>\n",
       "      <td>female</td>\n",
       "      <td>LogisticRegression</td>\n",
       "      <td>0</td>\n",
       "      <td>train</td>\n",
       "      <td>0.676490</td>\n",
       "      <td>0.094124</td>\n",
       "      <td>B</td>\n",
       "    </tr>\n",
       "    <tr>\n",
       "      <th>1</th>\n",
       "      <td>female</td>\n",
       "      <td>LogisticRegression</td>\n",
       "      <td>0</td>\n",
       "      <td>test</td>\n",
       "      <td>0.742857</td>\n",
       "      <td>0.261905</td>\n",
       "      <td>B</td>\n",
       "    </tr>\n",
       "    <tr>\n",
       "      <th>2</th>\n",
       "      <td>female</td>\n",
       "      <td>LogisticRegression</td>\n",
       "      <td>1</td>\n",
       "      <td>train</td>\n",
       "      <td>0.683892</td>\n",
       "      <td>0.090553</td>\n",
       "      <td>B</td>\n",
       "    </tr>\n",
       "    <tr>\n",
       "      <th>3</th>\n",
       "      <td>female</td>\n",
       "      <td>LogisticRegression</td>\n",
       "      <td>1</td>\n",
       "      <td>test</td>\n",
       "      <td>0.624286</td>\n",
       "      <td>0.119048</td>\n",
       "      <td>B</td>\n",
       "    </tr>\n",
       "    <tr>\n",
       "      <th>4</th>\n",
       "      <td>female</td>\n",
       "      <td>LogisticRegression</td>\n",
       "      <td>2</td>\n",
       "      <td>train</td>\n",
       "      <td>0.678025</td>\n",
       "      <td>0.115808</td>\n",
       "      <td>B</td>\n",
       "    </tr>\n",
       "  </tbody>\n",
       "</table>\n",
       "</div>"
      ],
      "text/plain": [
       "  protected_class           estimator  cv_fold fold_type       auc  mean_diff  \\\n",
       "0          female  LogisticRegression        0     train  0.676490   0.094124   \n",
       "1          female  LogisticRegression        0      test  0.742857   0.261905   \n",
       "2          female  LogisticRegression        1     train  0.683892   0.090553   \n",
       "3          female  LogisticRegression        1      test  0.624286   0.119048   \n",
       "4          female  LogisticRegression        2     train  0.678025   0.115808   \n",
       "\n",
       "  experiment  \n",
       "0          B  \n",
       "1          B  \n",
       "2          B  \n",
       "3          B  \n",
       "4          B  "
      ]
     },
     "execution_count": 368,
     "metadata": {},
     "output_type": "execute_result"
    }
   ],
   "source": [
    "compare_experiments = (\n",
    "    pd.concat([\n",
    "        experiment_baseline.assign(experiment=\"B\"),\n",
    "        experiment_naive.assign(experiment=\"RPA\"),\n",
    "        experiment_relabel.assign(experiment=\"RTV\"),\n",
    "        experiment_acf.assign(experiment=\"CFM\"),\n",
    "        experiment_single_roc.assign(experiment=\"ROC\")\n",
    "    ])\n",
    "    .assign(\n",
    "        protected_class=lambda df: df.protected_class.str.replace(\"_\", \" \"),\n",
    "    )\n",
    ")\n",
    "compare_experiments.head()"
   ]
  },
  {
   "cell_type": "code",
   "execution_count": 385,
   "metadata": {},
   "outputs": [
    {
     "data": {
      "image/png": "[encoded data removed]",
      "text/plain": [
       "<matplotlib.figure.Figure at 0x122713f50>"
      ]
     },
     "metadata": {},
     "output_type": "display_data"
    }
   ],
   "source": [
    "comparison_palette = sns.color_palette(\"Dark2\", n_colors=8)\n",
    "\n",
    "def compare_experiment_results_multiple_model(experiment_results):\n",
    "    g = (\n",
    "        experiment_results\n",
    "        .query(\"fold_type == 'test'\")\n",
    "        .drop([\"cv_fold\"], axis=1)\n",
    "        .pipe(pd.melt, id_vars=[\"experiment\", \"protected_class\", \"estimator\",\n",
    "                                \"fold_type\"],\n",
    "              var_name=\"metric\", value_name=\"score\")\n",
    "        .assign(\n",
    "            metric=lambda df: df.metric.str.replace(\"_\", \" \"))\n",
    "        .pipe((sns.factorplot, \"data\"), y=\"experiment\",\n",
    "              x=\"score\", hue=\"metric\",\n",
    "              col=\"protected_class\", row=\"estimator\",\n",
    "              join=False, size=1.8, aspect=1.35, dodge=0.3,\n",
    "              palette=comparison_palette, margin_titles=True, legend=False))\n",
    "    g.set_axis_labels(\"mean score (95% CI)\")\n",
    "    for ax in g.axes.ravel():\n",
    "        ax.set_ylabel(\"\")\n",
    "        plt.setp(ax.texts, text=\"\")\n",
    "    g.set_titles(row_template=\"{row_name}\", col_template=\"{col_name}\")\n",
    "    plt.legend(title=\"metric\", loc=9, bbox_to_anchor=(-0.65, -0.4))\n",
    "#     g.fig.legend(loc=9, bbox_to_anchor=(0.5, -0.3))\n",
    "#     g.fig.tight_layout()\n",
    "    g.savefig(\"IMG/fairness_aware_comparison.png\", dpi=500);\n",
    "\n",
    "compare_experiment_results_multiple_model(compare_experiments);"
   ]
  },
  {
   "cell_type": "markdown",
   "metadata": {},
   "source": [
    "We can make some interesting observations when comparing the results from different fairness-aware techniques."
   ]
  },
  {
   "cell_type": "code",
   "execution_count": 370,
   "metadata": {
    "collapsed": true
   },
   "outputs": [],
   "source": [
    "from scipy import stats\n",
    "\n",
    "def compute_corr_pearson(x, y, ci=0.95):\n",
    "    corr = stats.pearsonr(x, y)\n",
    "    z = np.arctanh(corr[0])\n",
    "    sigma = (1 / ((len(x) - 3) ** 0.5))\n",
    "    cint = z + np.array([-1, 1]) * sigma * stats.norm.ppf((1 + ci ) / 2)\n",
    "    return corr, np.tanh(cint)"
   ]
  },
  {
   "cell_type": "code",
   "execution_count": 384,
   "metadata": {
    "scrolled": false
   },
   "outputs": [
    {
     "data": {
      "image/png": "[encoded data removed]",
      "text/plain": [
       "<matplotlib.figure.Figure at 0x1225f5650>"
      ]
     },
     "metadata": {},
     "output_type": "display_data"
    }
   ],
   "source": [
    "black_palette = sns.color_palette([\"#222222\"])\n",
    "\n",
    "def plot_utility_fairness_tradeoff(x, y, **kwargs):\n",
    "    ax = plt.gca()\n",
    "    data = kwargs.pop(\"data\")\n",
    "    sns_ax = sns.regplot(x=x, y=y, data=data, **kwargs)\n",
    "    (corr, p_val), ci = compute_corr_pearson(data[x], data[y])\n",
    "    r_text = 'R 0.95 CI = (%0.02f, %0.02f)' % \\\n",
    "        (ci[0], ci[1])\n",
    "    sns_ax.annotate(\n",
    "        r_text, xy=(0.7, 0),\n",
    "        xytext=(0.05, 0.91),\n",
    "        textcoords='axes fraction',\n",
    "        fontweight=\"bold\",\n",
    "        fontsize=9,\n",
    "        color=\"gray\"\n",
    "    )\n",
    "    bottom_padding = 0.05\n",
    "    top_padding = 0.5\n",
    "    ylim = (data[y].min() - bottom_padding, data[y].max() + top_padding)\n",
    "    sns_ax.set_ylim(*ylim)\n",
    "\n",
    "\n",
    "g = sns.FacetGrid(\n",
    "    (\n",
    "        compare_experiments\n",
    "        .drop(\"cv_fold\", axis=1)\n",
    "        .reset_index()\n",
    "        .query(\"fold_type == 'test'\")\n",
    "        .rename(\n",
    "            columns={\"mean_diff\": \"mean diff\"})\n",
    "    ),\n",
    "    col=\"protected_class\",\n",
    "    row=\"experiment\",\n",
    "    hue=\"experiment\",\n",
    "    size=2.0, aspect=1.3, sharey=True,\n",
    "    palette=black_palette)\n",
    "g.map_dataframe(plot_utility_fairness_tradeoff, \"auc\", \"mean diff\")\n",
    "g.set_titles(template=\"{row_name}, {col_name}\")\n",
    "g.fig.tight_layout()\n",
    "g.savefig(\"IMG/fairness_utility_tradeoff.png\", dpi=500);"
   ]
  }
 ],
 "metadata": {
  "kernelspec": {
   "display_name": "Python 2",
   "language": "python",
   "name": "python2"
  },
  "language_info": {
   "codemirror_mode": {
    "name": "ipython",
    "version": 2
   },
   "file_extension": ".py",
   "mimetype": "text/x-python",
   "name": "python",
   "nbconvert_exporter": "python",
   "pygments_lexer": "ipython2",
   "version": "2.7.13"
  },
  "toc": {
   "colors": {
    "hover_highlight": "#DAA520",
    "navigate_num": "#000000",
    "navigate_text": "#333333",
    "running_highlight": "#FF0000",
    "selected_highlight": "#FFD700",
    "sidebar_border": "#EEEEEE",
    "wrapper_background": "#FFFFFF"
   },
   "moveMenuLeft": true,
   "nav_menu": {
    "height": "243px",
    "width": "252px"
   },
   "navigate_menu": true,
   "number_sections": false,
   "sideBar": true,
   "threshold": "3",
   "toc_cell": false,
   "toc_position": {
    "height": "754px",
    "left": "0px",
    "right": "1388px",
    "top": "107px",
    "width": "212px"
   },
   "toc_section_display": "block",
   "toc_window_display": true,
   "widenNotebook": false
  }
 },
 "nbformat": 4,
 "nbformat_minor": 2
}
